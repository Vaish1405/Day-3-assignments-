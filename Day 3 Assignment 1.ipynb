{
 "cells": [
  {
   "cell_type": "code",
   "execution_count": 9,
   "metadata": {},
   "outputs": [
    {
     "name": "stdout",
     "output_type": "stream",
     "text": [
      "Enter your marks40\n",
      "Your grade is D\n"
     ]
    }
   ],
   "source": [
    "marks = int(input(\"Enter your marks\"))\n",
    "if marks >= 90:\n",
    "    print (\"Your grade is A+\")\n",
    "elif marks >= 80 and marks < 90:\n",
    "    print (\"Your grade is A\")\n",
    "elif marks >= 70 and marks < 80:\n",
    "    print (\"Your grade is B+\")\n",
    "elif marks >= 60 and marks < 70:\n",
    "    print (\"Your grade is B\")\n",
    "elif marks >= 50 and marks < 60:\n",
    "    print (\"Your grade is C\")\n",
    "elif marks >= 40 and marks < 50:\n",
    "    print (\"Your grade is D\")\n",
    "elif marks < 40:\n",
    "    print (\"Sorry to inform you but you've failed the exam!\"\n",
    "            \"Better luck next time\")"
   ]
  },
  {
   "cell_type": "code",
   "execution_count": null,
   "metadata": {},
   "outputs": [],
   "source": []
  }
 ],
 "metadata": {
  "kernelspec": {
   "display_name": "Python 3",
   "language": "python",
   "name": "python3"
  },
  "language_info": {
   "codemirror_mode": {
    "name": "ipython",
    "version": 3
   },
   "file_extension": ".py",
   "mimetype": "text/x-python",
   "name": "python",
   "nbconvert_exporter": "python",
   "pygments_lexer": "ipython3",
   "version": "3.8.5"
  }
 },
 "nbformat": 4,
 "nbformat_minor": 4
}
